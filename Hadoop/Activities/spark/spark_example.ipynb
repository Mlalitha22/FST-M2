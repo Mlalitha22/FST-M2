{
 "cells": [
  {
   "cell_type": "markdown",
   "metadata": {},
   "source": [
    "# Spark Example\n",
    "\n",
    "This code block is to import:\n",
    "* FindSpark\n",
    "* SparkSession\n",
    "* Spark SQL functions\n",
    "\n",
    "And then initialises the SparkSession"
   ]
  },
  {
   "cell_type": "code",
   "execution_count": 1,
   "metadata": {},
   "outputs": [],
   "source": [
    "import findspark\n",
    "from pyspark.sql import SparkSession\n",
    "from pyspark.sql.functions import *\n",
    "\n",
    "findspark.init()\n",
    "\n",
    "spark = SparkSession.builder.master(\"local\").appName(\"FSTExample\").getOrCreate()"
   ]
  },
  {
   "cell_type": "markdown",
   "metadata": {},
   "source": [
    "Find the number of words in the input file"
   ]
  },
  {
   "cell_type": "code",
   "execution_count": 5,
   "metadata": {},
   "outputs": [
    {
     "name": "stderr",
     "output_type": "stream",
     "text": [
      "<>:2: SyntaxWarning: invalid escape sequence '\\s'\n",
      "<>:2: SyntaxWarning: invalid escape sequence '\\s'\n",
      "C:\\Users\\Asus\\AppData\\Local\\Temp\\ipykernel_36520\\2240402304.py:2: SyntaxWarning: invalid escape sequence '\\s'\n",
      "  words = inputFile.select(explode(split(inputFile.value, \"\\s+\")).alias('word'))\n"
     ]
    },
    {
     "name": "stdout",
     "output_type": "stream",
     "text": [
      "+-------+\n",
      "|   word|\n",
      "+-------+\n",
      "|   This|\n",
      "|     is|\n",
      "|     an|\n",
      "|example|\n",
      "|   file|\n",
      "|   This|\n",
      "|     is|\n",
      "|     an|\n",
      "|example|\n",
      "|   line|\n",
      "|   This|\n",
      "|     is|\n",
      "|     an|\n",
      "|example|\n",
      "|   file|\n",
      "|   This|\n",
      "|     is|\n",
      "|     an|\n",
      "|example|\n",
      "|   line|\n",
      "+-------+\n",
      "only showing top 20 rows\n",
      "\n",
      "+-------+-----+\n",
      "|   word|count|\n",
      "+-------+-----+\n",
      "|example|10240|\n",
      "|     is|10240|\n",
      "|   file| 5120|\n",
      "|     an|10240|\n",
      "|   This|10240|\n",
      "|   line| 5120|\n",
      "+-------+-----+\n",
      "\n"
     ]
    }
   ],
   "source": [
    "inputFile = spark.read.text(\"./simple_text.txt\")\n",
    "words = inputFile.select(explode(split(inputFile.value, \"\\s+\")).alias('word'))\n",
    "words.show()\n",
    "words.groupBy('word').count().show()"
   ]
  }
 ],
 "metadata": {
  "kernelspec": {
   "display_name": "Python 3",
   "language": "python",
   "name": "python3"
  },
  "language_info": {
   "codemirror_mode": {
    "name": "ipython",
    "version": 3
   },
   "file_extension": ".py",
   "mimetype": "text/x-python",
   "name": "python",
   "nbconvert_exporter": "python",
   "pygments_lexer": "ipython3",
   "version": "3.12.1"
  },
  "orig_nbformat": 4
 },
 "nbformat": 4,
 "nbformat_minor": 2
}
